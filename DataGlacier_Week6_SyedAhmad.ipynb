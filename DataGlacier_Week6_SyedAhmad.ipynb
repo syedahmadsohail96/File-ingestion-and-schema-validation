{
  "nbformat": 4,
  "nbformat_minor": 0,
  "metadata": {
    "colab": {
      "provenance": [],
      "mount_file_id": "1b0C_n2EIYtg8V2Nf1TTvX7tiEWsgqS5v",
      "authorship_tag": "ABX9TyPXlBpWBCLHpBabmH0jNwQT",
      "include_colab_link": true
    },
    "kernelspec": {
      "name": "python3",
      "display_name": "Python 3"
    },
    "language_info": {
      "name": "python"
    }
  },
  "cells": [
    {
      "cell_type": "markdown",
      "metadata": {
        "id": "view-in-github",
        "colab_type": "text"
      },
      "source": [
        "<a href=\"https://colab.research.google.com/github/syedahmadsohail96/File-ingestion-and-schema-validation/blob/main/DataGlacier_Week6_SyedAhmad.ipynb\" target=\"_parent\"><img src=\"https://colab.research.google.com/assets/colab-badge.svg\" alt=\"Open In Colab\"/></a>"
      ]
    },
    {
      "cell_type": "code",
      "execution_count": 1,
      "metadata": {
        "id": "UuHgSdUxFq0V"
      },
      "outputs": [],
      "source": [
        "import logging\n",
        "import os\n",
        "import subprocess\n",
        "import yaml\n",
        "import pandas as pd\n",
        "import datetime \n",
        "import gc\n",
        "import re\n",
        "import time"
      ]
    },
    {
      "cell_type": "code",
      "source": [
        "from google.colab import drive\n",
        "drive.mount(\"/content/driveG\")"
      ],
      "metadata": {
        "colab": {
          "base_uri": "https://localhost:8080/"
        },
        "id": "JR4wBo-aIKsR",
        "outputId": "bf11901c-e956-4f28-8c8d-bf84394c6732"
      },
      "execution_count": 2,
      "outputs": [
        {
          "output_type": "stream",
          "name": "stdout",
          "text": [
            "Mounted at /content/driveG\n"
          ]
        }
      ]
    },
    {
      "cell_type": "code",
      "source": [
        "import dask.dataframe as dd\n",
        "\n",
        "\n",
        "# Measure the time taken to read the CSV file with Dask\n",
        "start_time = time.time()\n",
        "df = dd.read_csv('/content/driveG/MyDrive/2019-Oct.csv')\n",
        "end_time = time.time()\n",
        "\n",
        "print(f\"Time taken to read file with Dask: {end_time - start_time} seconds\")"
      ],
      "metadata": {
        "colab": {
          "base_uri": "https://localhost:8080/"
        },
        "id": "GXvKcC8HLbOY",
        "outputId": "cef49d01-e2b4-47f6-821c-404c31b7affd"
      },
      "execution_count": 3,
      "outputs": [
        {
          "output_type": "stream",
          "name": "stdout",
          "text": [
            "Time taken to read file with Dask: 0.05585050582885742 seconds\n"
          ]
        }
      ]
    },
    {
      "cell_type": "code",
      "source": [
        "import ray\n",
        "import pandas as pd\n",
        "import time\n",
        "\n",
        "# Initialize Ray\n",
        "ray.shutdown()\n",
        "ray.init()\n",
        "\n",
        "# Define a function to read CSV file with pandas\n",
        "@ray.remote\n",
        "def read_csv_with_pandas(file_path):\n",
        "    df = pd.read_csv(file_path)\n",
        "    return df\n",
        "\n",
        "# Measure the time taken to read the CSV file with pandas\n",
        "start_time = time.time()\n",
        "csv_file_path = \"/content/drive/MyDrive/2019-Oct.csv\"\n",
        "df_id = read_csv_with_pandas.remote(csv_file_path)\n",
        "df = ray.get(df_id)\n",
        "end_time = time.time()\n",
        "\n",
        "print(f\"Time taken with pandas: {end_time - start_time:.4f} seconds\")\n",
        "print(f\"Number of rows: {len(df)}\")\n",
        "\n"
      ],
      "metadata": {
        "id": "tu3KS1HrM335",
        "colab": {
          "base_uri": "https://localhost:8080/"
        },
        "outputId": "92ebfb51-506e-430d-ccaf-ef1b9bf9e5b9"
      },
      "execution_count": 14,
      "outputs": [
        {
          "output_type": "stream",
          "name": "stderr",
          "text": [
            "2023-03-13 00:00:56,737\tINFO worker.py:1544 -- Started a local Ray instance. View the dashboard at \u001b[1m\u001b[32m127.0.0.1:8265 \u001b[39m\u001b[22m\n"
          ]
        },
        {
          "output_type": "stream",
          "name": "stdout",
          "text": [
            "Time taken with pandas: 114.0412 seconds\n",
            "Number of rows: 42448764\n"
          ]
        }
      ]
    },
    {
      "cell_type": "code",
      "source": [
        "\n",
        "# Measure the time taken to read the CSV file with pandas\n",
        "start_time = time.time()\n",
        "df = pd.read_csv('/content/driveG/MyDrive/2019-Oct.csv')\n",
        "end_time = time.time()\n",
        "\n",
        "print(f'Time taken to read CSV with pandas: {end_time - start_time} seconds')"
      ],
      "metadata": {
        "id": "0rKt3iaaPTmA",
        "colab": {
          "base_uri": "https://localhost:8080/"
        },
        "outputId": "fe060f38-2aa5-43a5-df0e-1087aca8da6a"
      },
      "execution_count": 8,
      "outputs": [
        {
          "output_type": "stream",
          "name": "stdout",
          "text": [
            "Time taken to read CSV with pandas: 83.03061485290527 seconds\n"
          ]
        }
      ]
    },
    {
      "cell_type": "markdown",
      "source": [
        "# Considering the three methods computational efficiency analyzed with time, the fastest method was with Dask."
      ],
      "metadata": {
        "id": "Gc7ANsb2R99N"
      }
    },
    {
      "cell_type": "code",
      "source": [
        "# get the number of columns\n",
        "num_cols = len(df.columns)\n",
        "print(f\"Number of columns: {num_cols}\")\n",
        "\n",
        "# get the names of columns\n",
        "col_names = df.columns.tolist()\n",
        "print(f\"Column names: {col_names}\")"
      ],
      "metadata": {
        "colab": {
          "base_uri": "https://localhost:8080/"
        },
        "id": "VjBELGplS3tY",
        "outputId": "2a4cbd38-107f-41b3-b245-353853a38b31"
      },
      "execution_count": 4,
      "outputs": [
        {
          "output_type": "stream",
          "name": "stdout",
          "text": [
            "Number of columns: 9\n",
            "Column names: ['event_time', 'event_type', 'product_id', 'category_id', 'category_code', 'brand', 'price', 'user_id', 'user_session']\n"
          ]
        }
      ]
    },
    {
      "cell_type": "code",
      "source": [
        "# remove special characters and white spaces from column names\n",
        "df.columns = df.columns.str.replace('[^a-zA-Z0-9]+', '_', regex=True)\n",
        "df.columns = df.columns.str.strip()\n",
        "\n",
        "# print the updated column names\n",
        "print(df.columns)"
      ],
      "metadata": {
        "colab": {
          "base_uri": "https://localhost:8080/"
        },
        "id": "9QPjyoZiTu6s",
        "outputId": "5d4d198c-9d10-4f11-c3d7-c18a4d335ef9"
      },
      "execution_count": 5,
      "outputs": [
        {
          "output_type": "stream",
          "name": "stdout",
          "text": [
            "Index(['event_time', 'event_type', 'product_id', 'category_id',\n",
            "       'category_code', 'brand', 'price', 'user_id', 'user_session'],\n",
            "      dtype='object')\n"
          ]
        }
      ]
    },
    {
      "cell_type": "code",
      "source": [
        "%%writefile file.yaml\n",
        "file_type: csv\n",
        "dataset_name: 2019-Oct\n",
        "file_name: 2019-Oct\n",
        "table_name: edsurv\n",
        "inbound_delimiter: \",\"\n",
        "outbound_delimiter: \"|\"\n",
        "skip_leading_rows: 1\n",
        "columns:\n",
        "  - event_time\n",
        "  - event_type\n",
        "  - product_id\n",
        "  - category_id\n",
        "  - category_code\n",
        "  - brand\n",
        "  - price\n",
        "  - user_id\n",
        "  - user_session"
      ],
      "metadata": {
        "colab": {
          "base_uri": "https://localhost:8080/"
        },
        "id": "7f-TouuAUDe3",
        "outputId": "fd0e0f8b-0831-4d1d-d89b-843274a7167d"
      },
      "execution_count": 6,
      "outputs": [
        {
          "output_type": "stream",
          "name": "stdout",
          "text": [
            "Overwriting file.yaml\n"
          ]
        }
      ]
    },
    {
      "cell_type": "code",
      "source": [
        "import yaml\n",
        "\n",
        "# read the schema.yml file\n",
        "with open('/content/file.yaml', 'r') as file:\n",
        "    schema = yaml.safe_load(file)\n",
        "\n",
        "# retrieve the column names\n",
        "columns = schema['columns']\n",
        "\n",
        "# print the column names\n",
        "print(columns)"
      ],
      "metadata": {
        "colab": {
          "base_uri": "https://localhost:8080/"
        },
        "id": "QJv0bhK9VRjv",
        "outputId": "9415da2f-bae1-493b-e190-453d6e8b9417"
      },
      "execution_count": 7,
      "outputs": [
        {
          "output_type": "stream",
          "name": "stdout",
          "text": [
            "['event_time', 'event_type', 'product_id', 'category_id', 'category_code', 'brand', 'price', 'user_id', 'user_session']\n"
          ]
        }
      ]
    },
    {
      "cell_type": "code",
      "source": [
        "\n",
        "# Load the YAML file that defines the expected schema\n",
        "with open('/content/file.yaml', 'r') as file:\n",
        "    schema = yaml.safe_load(file)\n",
        "\n",
        "# Load the input file into a DataFrame\n",
        "df = pd.read_csv('/content/driveG/MyDrive/2019-Oct.csv', sep=schema['inbound_delimiter'])\n",
        "\n",
        "# Check the number of columns\n",
        "if len(df.columns) != len(schema['columns']):\n",
        "    raise ValueError(f\"Expected {len(schema['columns'])} columns, but found {len(df.columns)}\")\n",
        "\n",
        "# Check the column names\n",
        "if set(df.columns) != set(schema['columns']):\n",
        "    raise ValueError(\"Column names do not match the expected schema\")\n",
        "else:\n",
        "  print(\"All Column names match\")"
      ],
      "metadata": {
        "colab": {
          "base_uri": "https://localhost:8080/"
        },
        "id": "17bIgwZwV-1m",
        "outputId": "1d92007e-6b55-4058-881b-b509af3191b2"
      },
      "execution_count": 8,
      "outputs": [
        {
          "output_type": "stream",
          "name": "stdout",
          "text": [
            "All Column names match\n"
          ]
        }
      ]
    },
    {
      "cell_type": "code",
      "source": [
        "import gzip\n",
        "\n",
        "\n",
        "# define the output file name\n",
        "output_file = 'output_DF_GZ.txt.gz'\n",
        "\n",
        "# write the DataFrame to a gzipped pipe-separated text file\n",
        "with gzip.open(output_file, 'wt', encoding='utf-8') as f:\n",
        "    df.to_csv(f, sep='|', index=False)"
      ],
      "metadata": {
        "id": "BblZYVw6Yl1O"
      },
      "execution_count": 10,
      "outputs": []
    },
    {
      "cell_type": "code",
      "source": [
        "import gzip\n",
        "\n",
        "# specify the input file path\n",
        "input_file = '/content/output_DF_GZ.txt.gz'\n",
        "\n",
        "# read in the compressed file as a pandas DataFrame\n",
        "with gzip.open(input_file, 'rt') as f:\n",
        "    df = pd.read_csv(f, sep='|')\n",
        "\n",
        "# calculate the mean values of each column\n",
        "mean_values = df.mean()\n",
        "\n",
        "# print the mean values of each column\n",
        "print(mean_values)"
      ],
      "metadata": {
        "id": "zyIPIpS_Z0Bu"
      },
      "execution_count": null,
      "outputs": []
    }
  ]
}